{
  "nbformat": 4,
  "nbformat_minor": 0,
  "metadata": {
    "colab": {
      "provenance": [],
      "authorship_tag": "ABX9TyN2GSDxgKafzLTW2aBxBA4g",
      "include_colab_link": true
    },
    "kernelspec": {
      "name": "python3",
      "display_name": "Python 3"
    },
    "language_info": {
      "name": "python"
    }
  },
  "cells": [
    {
      "cell_type": "markdown",
      "metadata": {
        "id": "view-in-github",
        "colab_type": "text"
      },
      "source": [
        "<a href=\"https://colab.research.google.com/github/AishwaryaSureshkumaar/ATHAARA2K24-Website/blob/main/HTML.ipynb\" target=\"_parent\"><img src=\"https://colab.research.google.com/assets/colab-badge.svg\" alt=\"Open In Colab\"/></a>"
      ]
    },
    {
      "cell_type": "markdown",
      "source": [
        "16/12/2024\n",
        "\n",
        "# **1.HTML**\n",
        "\n",
        "### Day-1:\n"
      ],
      "metadata": {
        "id": "01b0m1EaS5mq"
      }
    },
    {
      "cell_type": "markdown",
      "source": [
        "**INTRODUCTION:**\n",
        "\n",
        "\n",
        "         * HTML stands for HyperText Markup Language.\n",
        "         * It is the standard markup language used to create web pages.\n",
        "         * HTML describes the structure of a web page using elements\n",
        "\n",
        "\n"
      ],
      "metadata": {
        "id": "7gEuVdkbTb0C"
      }
    },
    {
      "cell_type": "code",
      "execution_count": 8,
      "metadata": {
        "colab": {
          "base_uri": "https://localhost:8080/",
          "height": 100
        },
        "id": "RP08xy-3PnrG",
        "outputId": "3361897e-dec9-4acb-eddd-111ea69e8584"
      },
      "outputs": [
        {
          "output_type": "display_data",
          "data": {
            "text/plain": [
              "<IPython.core.display.HTML object>"
            ],
            "text/html": [
              "\n",
              "<!DOCTYPE html>\n",
              "<html>\n",
              "<body>\n",
              "    <h1>Aishwarya</h1>\n",
              "    <p>Web Developer Intern.</p>\n",
              "</body>\n",
              "</html>\n"
            ]
          },
          "metadata": {}
        }
      ],
      "source": [
        "from IPython.core.display import HTML, display\n",
        "\n",
        "# Example: Displaying HTML content\n",
        "display(HTML(\"\"\"\n",
        "<!DOCTYPE html>\n",
        "<html>\n",
        "<body>\n",
        "    <h1>Aishwarya</h1>\n",
        "    <p>Web Developer Intern.</p>\n",
        "</body>\n",
        "</html>\n",
        "\"\"\"))\n"
      ]
    },
    {
      "cell_type": "markdown",
      "source": [],
      "metadata": {
        "id": "vUgA9syMS4E5"
      }
    }
  ]
}